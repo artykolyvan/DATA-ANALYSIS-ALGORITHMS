{
 "cells": [
  {
   "cell_type": "markdown",
   "metadata": {},
   "source": [
    "### Домашнее задание к уроку 2."
   ]
  },
  {
   "cell_type": "raw",
   "metadata": {},
   "source": [
    "Выполнить модификации выражений для рассчёта функции потерь линейной регресси и её градиента,\n",
    "связанные с добавлением регулярязационной l2 поправки."
   ]
  },
  {
   "cell_type": "code",
   "execution_count": 220,
   "metadata": {},
   "outputs": [],
   "source": [
    "import matplotlib\n",
    "import numpy as np\n",
    "import matplotlib.pyplot as plt\n",
    "from linear_regression import linear_regression\n",
    "from sklearn.linear_model import LinearRegression as sklearn_LR\n",
    "%matplotlib inline"
   ]
  },
  {
   "cell_type": "code",
   "execution_count": 221,
   "metadata": {},
   "outputs": [
    {
     "data": {
      "text/plain": [
       "array([0.96049176, 1.11084594])"
      ]
     },
     "execution_count": 221,
     "metadata": {},
     "output_type": "execute_result"
    }
   ],
   "source": [
    "# L2 - регуляризация с поправочным коэффициентом alpha:\n",
    "alpha = 1.0\n",
    "coef_l2 = sum(w**2)\n",
    "coef_l2"
   ]
  },
  {
   "cell_type": "code",
   "execution_count": 222,
   "metadata": {},
   "outputs": [],
   "source": [
    "# Возьмем 2 признака и 1000 объектов\n",
    "n_features = 2\n",
    "n_objects = 1000\n",
    "\n",
    "# сгенерируем вектор истинных весов\n",
    "w_true = np.random.normal(size=(1, n_features ))\n",
    "\n",
    "# сгенерируем матрицу X, вычислим Y с добавлением случайного шума\n",
    "X = np.random.uniform(-7, 7, (n_objects, n_features))\n",
    "Y = X.dot(w_true.T) + np.random.normal(0, 0.5, size=(n_objects, 1))\n",
    "\n",
    "# возьмем нулевые начальные веса\n",
    "w = np.zeros((1, n_features))"
   ]
  },
  {
   "cell_type": "code",
   "execution_count": 223,
   "metadata": {},
   "outputs": [],
   "source": [
    "# реализуем функцию, определяющую среднеквадратичную ошибку\n",
    "def mserror(X, w, y_real):\n",
    "    y = X.dot(w.T)\n",
    "    return np.sum((y - y_real)**2) / y_real.shape[0] + alpha*coef_l2"
   ]
  },
  {
   "cell_type": "code",
   "execution_count": 224,
   "metadata": {},
   "outputs": [
    {
     "data": {
      "text/plain": [
       "(array([1.21913329, 1.36948748]), array([49.31779279, 49.46814697]))"
      ]
     },
     "execution_count": 224,
     "metadata": {},
     "output_type": "execute_result"
    }
   ],
   "source": [
    "mserror(X, w_true, Y), mserror(X, w, Y)"
   ]
  },
  {
   "cell_type": "code",
   "execution_count": 225,
   "metadata": {},
   "outputs": [],
   "source": [
    "# реализуем функцию, определяющую градиент среднеквадратичной ошибки\n",
    "def mserror_grad(X, w, y_real):\n",
    "    return 2*(X.dot(w.T)-y_real).T.dot(X)/y_real.shape[0] + alpha*coef_l2"
   ]
  },
  {
   "cell_type": "code",
   "execution_count": 226,
   "metadata": {},
   "outputs": [
    {
     "data": {
      "text/plain": [
       "array([[0.88843844, 1.18987624]])"
      ]
     },
     "execution_count": 226,
     "metadata": {},
     "output_type": "execute_result"
    }
   ],
   "source": [
    "mserror_grad(X, w_true, Y)"
   ]
  },
  {
   "cell_type": "code",
   "execution_count": 227,
   "metadata": {},
   "outputs": [
    {
     "data": {
      "text/plain": [
       "array([[ 49.88842015, -25.61634426]])"
      ]
     },
     "execution_count": 227,
     "metadata": {},
     "output_type": "execute_result"
    }
   ],
   "source": [
    "mserror_grad(X, w, Y)"
   ]
  },
  {
   "cell_type": "code",
   "execution_count": 228,
   "metadata": {},
   "outputs": [
    {
     "name": "stdout",
     "output_type": "stream",
     "text": [
      "curent error: [7.12166439 7.27201857]\n",
      "curent error: [1.92921526 2.07956945]\n",
      "curent error: [1.31453875 1.46489293]\n",
      "curent error: [1.25119502 1.4015492 ]\n",
      "curent error: [1.2483912  1.39874538]\n",
      "curent error: [1.24994636 1.40030054]\n",
      "curent error: [1.25084441 1.40119859]\n",
      "curent error: [1.25121508 1.40156926]\n",
      "curent error: [1.25135595 1.40171013]\n",
      "curent error: [1.25140804 1.40176223]\n",
      "curent error: [1.25142711 1.40178129]\n",
      "curent error: [1.25143405 1.40178823]\n",
      "curent error: [1.25143656 1.40179075]\n",
      "curent error: [1.25143748 1.40179166]\n",
      "curent error: [1.25143781 1.40179199]\n",
      "curent error: [1.25143793 1.40179211]\n",
      "curent error: [1.25143797 1.40179215]\n",
      "curent error: [1.25143798 1.40179217]\n",
      "curent error: [1.25143799 1.40179217]\n",
      "(1000, 2) (1, 2)\n"
     ]
    }
   ],
   "source": [
    "# список векторов весов после каждой итерации\n",
    "w_list = [w.copy().flatten()]\n",
    "\n",
    "# список значений ошибок после каждой итерации\n",
    "errors = []\n",
    "\n",
    "# шаг градиентного спуска\n",
    "eta = 0.02\n",
    "\n",
    "# максимальное число итераций\n",
    "max_iter = 1e4\n",
    "\n",
    "# критерий сходимости (разница весов, при которой алгоритм останавливается)\n",
    "min_weight_dist = 1e-8\n",
    "\n",
    "# зададим начальную разницу весов большим числом\n",
    "weight_dist = np.inf\n",
    "\n",
    "# счетчик итераций\n",
    "iter_num = 0\n",
    "\n",
    "# ход градиентного спуска\n",
    "while weight_dist > min_weight_dist and iter_num < max_iter:\n",
    "    new_w = w -  eta * mserror_grad(X, w, Y)\n",
    "    weight_dist = np.linalg.norm(new_w - w)\n",
    "    \n",
    "    w_list.append(new_w.copy().flatten())\n",
    "    cur_error=mserror(X, new_w, Y)\n",
    "    print('curent error: {0}'.format(cur_error))\n",
    "    errors.append(mserror(X, new_w, Y))\n",
    "    \n",
    "    iter_num += 1\n",
    "    w = new_w\n",
    "    \n",
    "w_list = np.array(w_list)\n",
    "\n",
    "print(X.shape, w.shape)"
   ]
  },
  {
   "cell_type": "code",
   "execution_count": 229,
   "metadata": {},
   "outputs": [
    {
     "data": {
      "image/png": "[encoded data removed]",
      "text/plain": [
       "<Figure size 936x432 with 1 Axes>"
      ]
     },
     "metadata": {
      "needs_background": "light"
     },
     "output_type": "display_data"
    }
   ],
   "source": [
    "# Визуализируем изменение весов (красной точкой обозначены истинные веса, сгенерированные вначале)\n",
    "plt.figure(figsize=(13, 6))\n",
    "plt.title('Gradient descent')\n",
    "plt.xlabel(r'$w_1$')\n",
    "plt.ylabel(r'$w_2$')\n",
    "\n",
    "plt.scatter(w_list[:, 0], w_list[:, 1])\n",
    "plt.scatter(w_true[0, 0], w_true[0, 1], c='r')\n",
    "plt.plot(w_list[:, 0], w_list[:, 1])\n",
    "\n",
    "plt.show()"
   ]
  },
  {
   "cell_type": "code",
   "execution_count": null,
   "metadata": {},
   "outputs": [],
   "source": []
  }
 ],
 "metadata": {
  "kernelspec": {
   "display_name": "Python 3",
   "language": "python",
   "name": "python3"
  },
  "language_info": {
   "codemirror_mode": {
    "name": "ipython",
    "version": 3
   },
   "file_extension": ".py",
   "mimetype": "text/x-python",
   "name": "python",
   "nbconvert_exporter": "python",
   "pygments_lexer": "ipython3",
   "version": "3.7.6"
  }
 },
 "nbformat": 4,
 "nbformat_minor": 4
}
