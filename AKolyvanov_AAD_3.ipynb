{
 "cells": [
  {
   "cell_type": "markdown",
   "metadata": {},
   "source": [
    "# Домашнее задание к уроку 3."
   ]
  },
  {
   "cell_type": "raw",
   "metadata": {},
   "source": [
    "Домашнее задание: Определите AUC_ROC и AUC_PR для модели логистической регрессии на тестовой выборке.\n",
    "Используйте реализацию модели в виде класса и функцию confusion,\n",
    "чтобы рассчитать TPR, FPR, precision, recal для различных порогов вероятности.\n",
    "Дополнительное задание(не обязательно):\n",
    "Получите такие же характеристики для линейной регрессии и сравните две модели."
   ]
  },
  {
   "cell_type": "code",
   "execution_count": 126,
   "metadata": {},
   "outputs": [],
   "source": [
    "import matplotlib\n",
    "import numpy as np\n",
    "import matplotlib.pyplot as plt\n",
    "from matplotlib.colors import ListedColormap\n",
    "from linear_regression import linear_regression\n",
    "from sklearn.linear_model import LinearRegression as sklearn_LR\n",
    "from sklearn import datasets\n",
    "from scipy.stats import norm\n",
    "%matplotlib inline"
   ]
  },
  {
   "cell_type": "code",
   "execution_count": 127,
   "metadata": {},
   "outputs": [
    {
     "data": {
      "text/plain": [
       "<matplotlib.collections.PathCollection at 0x283b28e35c8>"
      ]
     },
     "execution_count": 127,
     "metadata": {},
     "output_type": "execute_result"
    },
    {
     "data": {
      "image/png": "[encoded data removed]",
      "text/plain": [
       "<Figure size 576x576 with 1 Axes>"
      ]
     },
     "metadata": {
      "needs_background": "light"
     },
     "output_type": "display_data"
    }
   ],
   "source": [
    "# сгеренируем данные с помощью sklearn.datasets\n",
    "classes = datasets.make_classification(n_samples=100, n_features=2, n_informative=2,\n",
    "                                       n_redundant=0, n_classes=2, random_state=1)\n",
    "# datasets.make_blobs(centers = 2, cluster_std = 1.5, random_state=12)\n",
    "\n",
    "# и изобразим их на графике\n",
    "colors = ListedColormap(['red', 'blue'])\n",
    "\n",
    "plt.figure(figsize=(8, 8))\n",
    "plt.scatter([x[0] for x in classes[0]], [x[1] for x in classes[0]], c=classes[1], cmap=colors)"
   ]
  },
  {
   "cell_type": "code",
   "execution_count": 128,
   "metadata": {},
   "outputs": [
    {
     "name": "stdout",
     "output_type": "stream",
     "text": [
      "Размер массива признаков обучающей выборки (70, 2)\n",
      "Размер массива признаков тестовой выборки (30, 2)\n",
      "Размер массива ответов для обучающей выборки (70,)\n",
      "Размер массива ответов для тестовой выборки (30,)\n"
     ]
    }
   ],
   "source": [
    "# перемешивание датасета\n",
    "np.random.seed(12)\n",
    "shuffle_index = np.random.permutation(classes[0].shape[0])\n",
    "X_shuffled, y_shuffled = classes[0][shuffle_index], classes[1][shuffle_index]\n",
    "\n",
    "# разбивка на обучающую и тестовую выборки\n",
    "train_proportion = 0.7\n",
    "train_test_cut = int(len(classes[0]) * train_proportion)\n",
    "\n",
    "X_train, X_test, y_train, y_test = \\\n",
    "    X_shuffled[:train_test_cut], \\\n",
    "    X_shuffled[train_test_cut:], \\\n",
    "    y_shuffled[:train_test_cut], \\\n",
    "    y_shuffled[train_test_cut:]\n",
    "    \n",
    "print(\"Размер массива признаков обучающей выборки\", X_train.shape)\n",
    "print(\"Размер массива признаков тестовой выборки\", X_test.shape)\n",
    "print(\"Размер массива ответов для обучающей выборки\", y_train.shape)\n",
    "print(\"Размер массива ответов для тестовой выборки\", y_test.shape)"
   ]
  },
  {
   "cell_type": "code",
   "execution_count": 129,
   "metadata": {},
   "outputs": [],
   "source": [
    "class logistic_regression:\n",
    "    def __init__(self, n_iterations=1000, eta=0.05):\n",
    "        self.n_iterations=1000\n",
    "        self.eta=eta\n",
    "    @staticmethod\n",
    "    def log_grad(w, c, X, target):\n",
    "        m = X.shape[0]\n",
    "        y=(2*target-1)\n",
    "        score=np.dot(X, w.T).flatten()\n",
    "        Z=-y/(m*(1+np.exp(y*score)))\n",
    "        grad=Z[np.newaxis, :].dot(X)\n",
    "        return grad/m, np.sum(Z)/m\n",
    "    @classmethod\n",
    "    def optimize(cls, w, c, X, y, n_iterations, eta):\n",
    "        for i in range(n_iterations):        \n",
    "            grad_w, grad_c = cls.log_grad(w, c, X, y)\n",
    "            w = w - eta * grad_w\n",
    "            c = c - eta * grad_c\n",
    "        return w, c\n",
    "    def fit(self, X, y):\n",
    "        w0 = np.zeros((1, X.shape[1]))\n",
    "        c0=0\n",
    "        self.w, self.c= self.optimize(w0, c0, X, y, self.n_iterations, self.eta)\n",
    "    def predict_proba(self, X):  \n",
    "        score=X.dot(self.w.T).flatten()+self.c\n",
    "        return 1/(1+np.exp(-score))\n",
    "    def predict(self, X, thr=0.5):\n",
    "        proba=self.predict_proba(X)\n",
    "        y_predicted = np.zeros(proba.shape, dtype=bool) \n",
    "        y_predicted[proba>thr]=1\n",
    "        y_predicted[proba<=thr]=0\n",
    "        return y_predicted"
   ]
  },
  {
   "cell_type": "code",
   "execution_count": 130,
   "metadata": {},
   "outputs": [
    {
     "name": "stdout",
     "output_type": "stream",
     "text": [
      "Итоговый вектор весов w: [[0.32402389 0.01235587]]\n",
      "Точность на обучающей выборке: 97.143\n",
      "Точность на тестовой выборке: 96.667\n"
     ]
    }
   ],
   "source": [
    "mod=logistic_regression()\n",
    "mod.fit(X_train, y_train)\n",
    "y_predicted_test = mod.predict(X_test)\n",
    "y_predicted_train = mod.predict(X_train)\n",
    "\n",
    "# В качестве меры точности возьмем долю правильных ответов\n",
    "train_accuracy = 100.0 - np.mean(np.abs(y_predicted_train - y_train)*100.0)\n",
    "test_accuracy = 100.0 - np.mean(np.abs(y_predicted_test-y_test)*100.0)\n",
    "\n",
    "print(f\"Итоговый вектор весов w: {mod.w}\")\n",
    "print(f\"Точность на обучающей выборке: {train_accuracy:.3f}\")\n",
    "print(f\"Точность на тестовой выборке: {test_accuracy:.3f}\")"
   ]
  },
  {
   "cell_type": "code",
   "execution_count": 131,
   "metadata": {},
   "outputs": [],
   "source": [
    "\"\"\" МАТРИЦА ОШИБОК \"\"\"\n",
    "def confusion(predicted, actual):\n",
    "    TP=np.sum(np.logical_and(predicted==1, actual==1))\n",
    "    FP=np.sum(np.logical_and(predicted==1, actual==0))\n",
    "    FN=np.sum(np.logical_and(predicted==0, actual==1))\n",
    "    TN=np.sum(np.logical_and(predicted==0, actual==0))\n",
    "    return {'TP': TP, 'FP': FP, 'FN': FN, 'TN': TN}"
   ]
  },
  {
   "cell_type": "code",
   "execution_count": 132,
   "metadata": {},
   "outputs": [
    {
     "name": "stdout",
     "output_type": "stream",
     "text": [
      "Для порога по вероятности 0.5 на тестовой выборке имеем: {'TP': 15, 'FP': 0, 'FN': 1, 'TN': 14}\n",
      "Для порога по вероятности 0.75 на тестовой выборке имеем: {'TP': 0, 'FP': 0, 'FN': 16, 'TN': 14}\n"
     ]
    }
   ],
   "source": [
    "print(\"Для порога по вероятности 0.5 на тестовой выборке имеем:\"+\n",
    "      f\" {confusion(mod.predict(X_test), y_test)}\")\n",
    "print(\"Для порога по вероятности 0.75 на тестовой выборке имеем:\"+\n",
    "      f\" {confusion(mod.predict(X_test, 0.75), y_test)}\")"
   ]
  },
  {
   "cell_type": "code",
   "execution_count": 133,
   "metadata": {},
   "outputs": [
    {
     "name": "stdout",
     "output_type": "stream",
     "text": [
      "Для порога по вероятности 0.5 на тестовой выборке имеем: чувствительность 0.9375,специфичность 1.0, сбалансированную точность 0.96875\n"
     ]
    }
   ],
   "source": [
    "cofusion_fixed=confusion(mod.predict(X_test), y_test)\n",
    "sensitivity=cofusion_fixed['TP']/(cofusion_fixed['TP']+cofusion_fixed['FN'])\n",
    "specificity=cofusion_fixed['TN']/(cofusion_fixed['TN']+cofusion_fixed['FP'])\n",
    "balanced_accuracy=(sensitivity+specificity)/2\n",
    "print(f\"Для порога по вероятности 0.5 на тестовой выборке имеем: чувствительность {sensitivity},\"+\n",
    "      f\"специфичность {specificity}, сбалансированную точность {balanced_accuracy}\")"
   ]
  },
  {
   "cell_type": "code",
   "execution_count": 134,
   "metadata": {},
   "outputs": [
    {
     "name": "stdout",
     "output_type": "stream",
     "text": [
      "Для порога по вероятности 0.5 на тестовой выборке имеем: точность 1.0,полноту 0.9375, f1-скор 0.967741935483871\n"
     ]
    }
   ],
   "source": [
    "precision=cofusion_fixed['TP']/(cofusion_fixed['TP']+cofusion_fixed['FP'])\n",
    "recall=sensitivity\n",
    "f1_score=2*precision*recall/(precision+recall)\n",
    "print(f\"Для порога по вероятности 0.5 на тестовой выборке имеем: точность {precision},\"+\n",
    "      f\"полноту {recall}, f1-скор {f1_score}\")"
   ]
  },
  {
   "cell_type": "code",
   "execution_count": 135,
   "metadata": {},
   "outputs": [],
   "source": [
    "x=X_test\n",
    "targets=y_test"
   ]
  },
  {
   "cell_type": "code",
   "execution_count": 136,
   "metadata": {},
   "outputs": [
    {
     "name": "stdout",
     "output_type": "stream",
     "text": [
      "16 объектов положительного класса, 14 объектов негативного класса\n"
     ]
    }
   ],
   "source": [
    "num_pos=np.sum(targets)\n",
    "num_neg=len(targets)-num_pos\n",
    "print(f'{num_pos} объектов положительного класса, {num_neg} объектов негативного класса')"
   ]
  },
  {
   "cell_type": "code",
   "execution_count": 137,
   "metadata": {},
   "outputs": [],
   "source": [
    "#Чувствительность\n",
    "TPR=np.concatenate([[0], np.cumsum(1-targets)/num_neg])\n",
    "\n",
    "#Ложно-позитивный уровень\n",
    "FPR=np.concatenate([[0], np.cumsum(targets)/num_pos])"
   ]
  },
  {
   "cell_type": "code",
   "execution_count": 138,
   "metadata": {},
   "outputs": [
    {
     "data": {
      "text/plain": [
       "array([0.        , 0.07142857, 0.07142857, 0.14285714, 0.14285714,\n",
       "       0.21428571, 0.21428571, 0.21428571, 0.21428571, 0.21428571,\n",
       "       0.21428571, 0.28571429, 0.28571429, 0.35714286, 0.35714286,\n",
       "       0.35714286, 0.42857143, 0.5       , 0.57142857, 0.57142857,\n",
       "       0.57142857, 0.57142857, 0.64285714, 0.71428571, 0.78571429,\n",
       "       0.78571429, 0.85714286, 0.92857143, 0.92857143, 1.        ,\n",
       "       1.        ])"
      ]
     },
     "execution_count": 138,
     "metadata": {},
     "output_type": "execute_result"
    }
   ],
   "source": [
    "TPR"
   ]
  },
  {
   "cell_type": "code",
   "execution_count": 139,
   "metadata": {},
   "outputs": [
    {
     "data": {
      "text/plain": [
       "array([0.    , 0.    , 0.0625, 0.0625, 0.125 , 0.125 , 0.1875, 0.25  ,\n",
       "       0.3125, 0.375 , 0.4375, 0.4375, 0.5   , 0.5   , 0.5625, 0.625 ,\n",
       "       0.625 , 0.625 , 0.625 , 0.6875, 0.75  , 0.8125, 0.8125, 0.8125,\n",
       "       0.8125, 0.875 , 0.875 , 0.875 , 0.9375, 0.9375, 1.    ])"
      ]
     },
     "execution_count": 139,
     "metadata": {},
     "output_type": "execute_result"
    }
   ],
   "source": [
    "FPR"
   ]
  },
  {
   "cell_type": "code",
   "execution_count": 140,
   "metadata": {},
   "outputs": [
    {
     "data": {
      "text/plain": [
       "[<matplotlib.lines.Line2D at 0x283b2961d08>]"
      ]
     },
     "execution_count": 140,
     "metadata": {},
     "output_type": "execute_result"
    },
    {
     "data": {
      "image/png": "[encoded data removed]",
      "text/plain": [
       "<Figure size 432x288 with 1 Axes>"
      ]
     },
     "metadata": {
      "needs_background": "light"
     },
     "output_type": "display_data"
    }
   ],
   "source": [
    "AUC_ROC = np.sum(0.5*(FPR[1:]-FPR[:-1])*(TPR[1:]+TPR[:-1]))\n",
    "\n",
    "plt.title('ROC curve')\n",
    "plt.ylim(0, 1.05)\n",
    "plt.xlabel('FPR')\n",
    "plt.ylabel('TPR')\n",
    "plt.grid()\n",
    "plt.legend(' ', title=f'AUC-ROC={AUC_ROC:.3f}', loc='lower right')\n",
    "plt.plot(FPR, TPR)"
   ]
  },
  {
   "cell_type": "code",
   "execution_count": 141,
   "metadata": {},
   "outputs": [
    {
     "data": {
      "text/plain": [
       "array([1.        , 0.5       , 0.66666667, 0.5       , 0.6       ,\n",
       "       0.5       , 0.42857143, 0.375     , 0.33333333, 0.3       ,\n",
       "       0.36363636, 0.33333333, 0.38461538, 0.35714286, 0.33333333,\n",
       "       0.375     , 0.41176471, 0.44444444, 0.42105263, 0.4       ,\n",
       "       0.38095238, 0.40909091, 0.43478261, 0.45833333, 0.44      ,\n",
       "       0.46153846, 0.48148148, 0.46428571, 0.48275862, 0.46666667])"
      ]
     },
     "execution_count": 141,
     "metadata": {},
     "output_type": "execute_result"
    }
   ],
   "source": [
    "precision=np.cumsum(1-targets)/(np.cumsum(1-targets)+np.cumsum(targets))\n",
    "precision"
   ]
  },
  {
   "cell_type": "code",
   "execution_count": 142,
   "metadata": {},
   "outputs": [
    {
     "data": {
      "text/plain": [
       "[<matplotlib.lines.Line2D at 0x283b29c8888>]"
      ]
     },
     "execution_count": 142,
     "metadata": {},
     "output_type": "execute_result"
    },
    {
     "data": {
      "image/png": "[encoded data removed]",
      "text/plain": [
       "<Figure size 432x288 with 1 Axes>"
      ]
     },
     "metadata": {
      "needs_background": "light"
     },
     "output_type": "display_data"
    }
   ],
   "source": [
    "recall = TPR\n",
    "AUC_PR = np.sum(precision*(TPR[1:]-TPR[:-1]))\n",
    "\n",
    "plt.title('PR curve')\n",
    "plt.ylim(0, 1.05)\n",
    "plt.xlabel('recall')\n",
    "plt.ylabel('presision')\n",
    "plt.grid()\n",
    "plt.legend(' ', title=f'AUC-PR={AUC_PR:.3f}', loc='lower right')\n",
    "plt.plot(recall[1:], precision)"
   ]
  },
  {
   "cell_type": "code",
   "execution_count": null,
   "metadata": {},
   "outputs": [],
   "source": []
  }
 ],
 "metadata": {
  "kernelspec": {
   "display_name": "Python 3",
   "language": "python",
   "name": "python3"
  },
  "language_info": {
   "codemirror_mode": {
    "name": "ipython",
    "version": 3
   },
   "file_extension": ".py",
   "mimetype": "text/x-python",
   "name": "python",
   "nbconvert_exporter": "python",
   "pygments_lexer": "ipython3",
   "version": "3.7.6"
  }
 },
 "nbformat": 4,
 "nbformat_minor": 4
}
